{
 "cells": [
  {
   "cell_type": "code",
   "execution_count": null,
   "metadata": {},
   "outputs": [],
   "source": [
    "import torch\n",
    "import torch.optim as optim\n",
    "from model.transformer import Transformer\n",
    "from utils.checkpoint import Checkpoint\n",
    "from utils.clock import Clock\n",
    "from utils.dataset import Dataset\n",
    "from utils.evaluator import Evaluator\n",
    "from utils.search import Beam, Greedy\n",
    "from utils.tokenizer import Tokenizer, DualTokenizer\n",
    "from utils.quantize import quantize_model\n",
    "from utils.functional import read_data, save_module, save_model, save_config, parameter_count, model_size, graph, parse_config\n",
    "from utils.train import train"
   ]
  },
  {
   "cell_type": "code",
   "execution_count": null,
   "metadata": {},
   "outputs": [],
   "source": [
    "config = parse_config(\"config.txt\", verbose=True)\n",
    "min_freq, maxlen, batch_size = config[\"min_freq\"], config[\"maxlen\"], config[\"batch_size\"]\n",
    "dm, dk, dv, nhead, layers, dff = config[\"dm\"], config[\"dk\"], config[\"dv\"], config[\"nhead\"], config[\"layers\"], config[\"dff\"]\n",
    "bias, dropout, eps, scale  = config[\"bias\"], config[\"dropout\"], config[\"eps\"], config[\"scale\"]\n",
    "lr, adam_eps, betas, weight_decay =  config[\"lr\"], config[\"adam_eps\"], config[\"betas\"], config[\"weight_decay\"]\n",
    "factor, patience = config[\"factor\"], config[\"patience\"]\n",
    "beam_width, alpha, search_eps, fast = config[\"beam_width\"], config[\"alpha\"], config[\"search_eps\"], config[\"fast\"]\n",
    "eval_batch_size, goal_bleu, corpus_level, frequency, overwrite = config[\"eval_batch_size\"], config[\"goal_bleu\"], config[\"corpus_level\"], \\\n",
    "                                                                config[\"frequency\"], config[\"overwrite\"]\n",
    "warmups, epochs, clip = config[\"warmups\"], config[\"epochs\"], config[\"clip\"]\n",
    "device = \"cuda\" if torch.cuda.is_available() else \"cpu\"\n",
    "print(f\"Using {device}\")"
   ]
  },
  {
   "cell_type": "code",
   "execution_count": null,
   "metadata": {},
   "outputs": [],
   "source": [
    "english = Tokenizer()\n",
    "german = Tokenizer()"
   ]
  },
  {
   "cell_type": "code",
   "execution_count": null,
   "metadata": {},
   "outputs": [],
   "source": [
    "train_inputs, train_labels = read_data(path=\"datasets/multi30k-train.en\"), read_data(path=\"datasets/multi30k-train.de\")\n",
    "test_inputs, test_labels = read_data(path=\"datasets/multi30k-test.en\"), read_data(path=\"datasets/multi30k-test.de\")\n",
    "english.train(train_inputs, min_freq=min_freq)\n",
    "german.train(train_labels, min_freq=min_freq)"
   ]
  },
  {
   "cell_type": "code",
   "execution_count": null,
   "metadata": {},
   "outputs": [],
   "source": [
    "tokenizer = DualTokenizer(english, german)\n",
    "trainset = Dataset(train_inputs, train_labels, tokenizer) \n",
    "testset = Dataset(test_inputs, test_labels, tokenizer)"
   ]
  },
  {
   "cell_type": "code",
   "execution_count": null,
   "metadata": {},
   "outputs": [],
   "source": [
    "trainframe = trainset.dataframe()\n",
    "trainframe.head()"
   ]
  },
  {
   "cell_type": "code",
   "execution_count": null,
   "metadata": {},
   "outputs": [],
   "source": [
    "testframe = testset.dataframe()\n",
    "testframe.head()"
   ]
  },
  {
   "cell_type": "code",
   "execution_count": null,
   "metadata": {},
   "outputs": [],
   "source": [
    "trainframe.describe()"
   ]
  },
  {
   "cell_type": "code",
   "execution_count": null,
   "metadata": {},
   "outputs": [],
   "source": [
    "testframe.describe()"
   ]
  },
  {
   "cell_type": "code",
   "execution_count": null,
   "metadata": {},
   "outputs": [],
   "source": [
    "source_vocab, target_vocab = tokenizer.vocab_size()\n",
    "sos, eos, pad = tokenizer.getitem(\"<sos>\", module=\"source\"), tokenizer.getitem(\"<eos>\", module=\"source\"), \\\n",
    "                tokenizer.getitem(\"<pad>\", module=\"source\")\n",
    "print(f\"Number of input tokens: {source_vocab}\\nNumber of output tokens: {target_vocab}\")\n",
    "print(f\"Average training sequence length: {trainset.avgseq()}\\nLongest training sequence length: {trainset.maxseq()}\")\n",
    "print(f\"Average testing sequence length: {testset.avgseq()}\\nLongest testing sequence length: {testset.maxseq()}\")"
   ]
  },
  {
   "cell_type": "code",
   "execution_count": null,
   "metadata": {},
   "outputs": [],
   "source": [
    "dataloader = trainset.dataloader(maxlen=maxlen, batch_size=batch_size, shuffle=False, drop_last=False)\n",
    "testloader = testset.dataloader(maxlen=maxlen, batch_size=eval_batch_size, shuffle=True, drop_last=False)\n",
    "print(f\"Maxlen: {maxlen}\\nBatch Size: {batch_size}\\nTest Batch Size: {eval_batch_size}\")\n",
    "print(f\"Trainable Samples: {dataloader.size()}\\nTestable Samples: {testloader.size()}\")"
   ]
  },
  {
   "cell_type": "code",
   "execution_count": null,
   "metadata": {},
   "outputs": [],
   "source": [
    "save_module(tokenizer, path=\"experiment/tokenizer.pt\", verbose=True)\n",
    "save_module(dataloader, path=\"experiment/dataloader.pt\", verbose=True)\n",
    "save_module(testloader, path=\"experiment/testloader.pt\", verbose=True)\n",
    "save_config(config_path=\"config.txt\", path=\"experiment/config.txt\", verbose=True)"
   ]
  },
  {
   "cell_type": "code",
   "execution_count": null,
   "metadata": {},
   "outputs": [],
   "source": [
    "model = Transformer(source_vocab, target_vocab, maxlen, pad_id=pad, dm=dm, dk=dk, dv=dv, nhead=nhead, layers=layers, \n",
    "                    dff=dff, bias=bias, dropout=dropout, eps=eps, scale=scale)\n",
    "model.to(device)\n",
    "optimizer = optim.Adam(model.parameters(), lr=lr, betas=betas, weight_decay=weight_decay, eps=adam_eps)\n",
    "scheduler = optim.lr_scheduler.ReduceLROnPlateau(optimizer, factor=factor, patience=patience)\n",
    "checkpoint = Checkpoint(model, optimizer, scheduler, frequency=1, path=\"experiment/checkpoint.pt\", overwrite=overwrite)\n",
    "beam = Beam(sos, eos, maxlen, width=beam_width, alpha=alpha, eps=search_eps, fast=fast)\n",
    "greedy = Greedy(sos, eos, maxlen, alpha=alpha, eps=search_eps)\n",
    "evaluator = Evaluator(testloader, tokenizer, beam, goal_bleu=goal_bleu, corpus_level=corpus_level)\n",
    "clock = Clock()\n",
    "print(f\"Number of Trainable Paramaters: {parameter_count(model):.1f}M\\nSize of Model: {model_size(model):.1f}MB\")"
   ]
  },
  {
   "cell_type": "code",
   "execution_count": null,
   "metadata": {},
   "outputs": [],
   "source": [
    "losses, test_losses, bleus = train(dataloader, model, optimizer, scheduler, evaluator, checkpoint, clock, epochs=3, \n",
    "                                   warmups=warmups, clip=clip, verbose=True, log=\"experiment/log.txt\", device=device)"
   ]
  },
  {
   "cell_type": "code",
   "execution_count": null,
   "metadata": {},
   "outputs": [],
   "source": [
    "graph(losses, test_losses, bleus, path=\"experiment/metrics.jpg\")"
   ]
  },
  {
   "cell_type": "code",
   "execution_count": null,
   "metadata": {},
   "outputs": [],
   "source": [
    "model_int8 = quantize_model(model, dtype=torch.qint8, inplace=False)\n",
    "model_float16 = quantize_model(model, dtype=torch.float16, inplace=False)"
   ]
  },
  {
   "cell_type": "code",
   "execution_count": null,
   "metadata": {},
   "outputs": [],
   "source": [
    "save_model(model, path=\"experiment/model.pt\", verbose=True)\n",
    "save_model(model_int8, path=\"experiment/model_int8.pt\", verbose=True)\n",
    "save_model(model_float16, path=\"experiment/model_float16.pt\", verbose=True)"
   ]
  }
 ],
 "metadata": {
  "kernelspec": {
   "display_name": "transformer_env",
   "language": "python",
   "name": "python3"
  },
  "language_info": {
   "codemirror_mode": {
    "name": "ipython",
    "version": 3
   },
   "file_extension": ".py",
   "mimetype": "text/x-python",
   "name": "python",
   "nbconvert_exporter": "python",
   "pygments_lexer": "ipython3",
   "version": "3.11.4"
  },
  "vscode": {
   "interpreter": {
    "hash": "aa3358a97761d70ee1f95d8370b4b753234a41f83056449a106606320b1fa25d"
   }
  }
 },
 "nbformat": 4,
 "nbformat_minor": 4
}
