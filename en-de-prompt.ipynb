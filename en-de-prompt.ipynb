{
 "cells": [
  {
   "cell_type": "code",
   "execution_count": null,
   "metadata": {},
   "outputs": [],
   "source": [
    "import torch\n",
    "from model.transformer import Transformer\n",
    "from utils.search import Beam, Greedy\n",
    "from utils.test import prompt\n",
    "from utils.functional import parameter_count, model_size, load_module, load_model, parse_config"
   ]
  },
  {
   "cell_type": "code",
   "execution_count": null,
   "metadata": {},
   "outputs": [],
   "source": [
    "config = parse_config(\"experiment/config.txt\", verbose=True)\n",
    "maxlen = config[\"maxlen\"]\n",
    "dm, dk, dv, nhead, layers, dff = config[\"dm\"], config[\"dk\"], config[\"dv\"], config[\"nhead\"], config[\"layers\"], config[\"dff\"]\n",
    "bias, dropout, eps, scale  = config[\"bias\"], config[\"dropout\"], config[\"eps\"], config[\"scale\"]\n",
    "beam_width, alpha, search_eps, fast = config[\"beam_width\"], config[\"alpha\"], config[\"search_eps\"], config[\"fast\"]\n",
    "device = \"cuda\" if torch.cuda.is_available() else \"cpu\"\n",
    "print(f\"Using {device}\")"
   ]
  },
  {
   "cell_type": "code",
   "execution_count": null,
   "metadata": {},
   "outputs": [],
   "source": [
    "tokenizer = load_module(path=\"experiment/tokenizer.pt\", verbose=True)\n",
    "sos, eos, pad = tokenizer.getitem(\"<sos>\", module=\"source\"), tokenizer.getitem(\"<eos>\", module=\"source\"), tokenizer.getitem(\"<pad>\", module=\"source\")\n",
    "en_vocab, de_vocab = tokenizer.vocab_size()\n",
    "print(f\"Number of input tokens: {en_vocab}\\nNumber of output tokens: {de_vocab}\")"
   ]
  },
  {
   "cell_type": "code",
   "execution_count": null,
   "metadata": {},
   "outputs": [],
   "source": [
    "model = Transformer(en_vocab, de_vocab, maxlen, pad_id=pad, dm=dm, dk=dk, dv=dv, nhead=nhead, layers=layers, \n",
    "                    dff=dff,bias=bias, dropout=dropout, eps=eps, scale=scale)\n",
    "model.to(device);"
   ]
  },
  {
   "cell_type": "code",
   "execution_count": null,
   "metadata": {},
   "outputs": [],
   "source": [
    "load_model(model, path=\"experiment/model.pt\", verbose=True, device=device)\n",
    "print(f\"Number of Trainable Paramaters: {parameter_count(model):.1f}M\\nSize of Model: {model_size(model):.1f}MB\")"
   ]
  },
  {
   "cell_type": "code",
   "execution_count": null,
   "metadata": {},
   "outputs": [],
   "source": [
    "beam = Beam(sos, eos, maxlen, width=beam_width, fast=fast, alpha=alpha, eps=search_eps)\n",
    "greedy = Greedy(sos, eos, maxlen, alpha=alpha, eps=search_eps)"
   ]
  },
  {
   "cell_type": "code",
   "execution_count": null,
   "metadata": {},
   "outputs": [],
   "source": [
    "sequence = input(\"Enter in the sequence of text: \")\n",
    "output = prompt(sequence, model, tokenizer, beam, early_stop=False, device=device)\n",
    "print(f\"Translation: {output}\")"
   ]
  }
 ],
 "metadata": {
  "kernelspec": {
   "display_name": "deep-learning-venv",
   "language": "python",
   "name": "python3"
  },
  "language_info": {
   "codemirror_mode": {
    "name": "ipython",
    "version": 3
   },
   "file_extension": ".py",
   "mimetype": "text/x-python",
   "name": "python",
   "nbconvert_exporter": "python",
   "pygments_lexer": "ipython3",
   "version": "3.11.4"
  },
  "orig_nbformat": 4,
  "vscode": {
   "interpreter": {
    "hash": "cdd6e1c2b78b644f0d9d9d71785509219b94538d762b98250c0a1db53509cbf1"
   }
  }
 },
 "nbformat": 4,
 "nbformat_minor": 2
}
