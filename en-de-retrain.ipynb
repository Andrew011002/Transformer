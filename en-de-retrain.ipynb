{
 "cells": [
  {
   "cell_type": "code",
   "execution_count": null,
   "metadata": {},
   "outputs": [],
   "source": [
    "import torch\n",
    "import torch.optim as optim\n",
    "from model.transformer import Transformer\n",
    "from utils.checkpoint import Checkpoint\n",
    "from utils.clock import Clock\n",
    "from utils.evaluator import Evaluator\n",
    "from utils.search import Beam, Greedy\n",
    "from utils.train import retrain\n",
    "from utils.quantize import quantize_model\n",
    "from utils.functional import load_module, save_model, parameter_count, model_size, graph, parse_config"
   ]
  },
  {
   "cell_type": "code",
   "execution_count": null,
   "metadata": {},
   "outputs": [],
   "source": [
    "config = parse_config(\"experiment/config.txt\", verbose=True)\n",
    "maxlen = config[\"maxlen\"]\n",
    "dm, dk, dv, nhead, layers, dff = config[\"dm\"], config[\"dk\"], config[\"dv\"], config[\"nhead\"], config[\"layers\"], config[\"dff\"]\n",
    "bias, dropout, eps, scale  = config[\"bias\"], config[\"dropout\"], config[\"eps\"], config[\"scale\"]\n",
    "beam_width, alpha, search_eps, fast = config[\"beam_width\"], config[\"alpha\"], config[\"search_eps\"], config[\"fast\"]\n",
    "goal_bleu, corpus_level = config[\"goal_bleu\"], config[\"corpus_level\"]\n",
    "warmups, epochs, clip = config[\"warmups\"], config[\"epochs\"], config[\"clip\"]\n",
    "device = \"cuda\" if torch.cuda.is_available() else \"cpu\"\n",
    "print(f\"Using {device}\")"
   ]
  },
  {
   "cell_type": "code",
   "execution_count": null,
   "metadata": {},
   "outputs": [],
   "source": [
    "tokenizer = load_module(path=\"experiment/tokenizer.pt\", verbose=True)\n",
    "dataloader = load_module(path=\"experiment/dataloader.pt\", verbose=True)\n",
    "testloader = load_module(path=\"experiment/testloader.pt\", verbose=True)\n",
    "sos, eos, pad = tokenizer.getitem(\"<sos>\", module=\"source\"), tokenizer.getitem(\"<eos>\", module=\"source\"), \\\n",
    "                tokenizer.getitem(\"<pad>\", module=\"source\")\n",
    "source_vocab, target_vocab = tokenizer.vocab_size()\n",
    "print(f\"Number of input tokens: {source_vocab}\\nNumber of output tokens: {target_vocab}\")"
   ]
  },
  {
   "cell_type": "code",
   "execution_count": null,
   "metadata": {},
   "outputs": [],
   "source": [
    "model = Transformer(source_vocab, target_vocab, maxlen, pad_id=pad, dm=dm, dk=dk, dv=dv, nhead=nhead, layers=layers, \n",
    "                    dff=dff,bias=bias, dropout=dropout, eps=eps, scale=scale)\n",
    "model.to(device)\n",
    "optimizer = optim.Adam(model.parameters(), lr=1e-5)\n",
    "scheduler = optim.lr_scheduler.ReduceLROnPlateau(optimizer)\n",
    "checkpoint = Checkpoint(model, optimizer, scheduler)\n",
    "checkpoint.load_checkpoint(\"experiment/checkpoint.pt\", verbose=True, device=device)\n",
    "beam = Beam(sos, eos, maxlen, width=beam_width, alpha=alpha, eps=search_eps, fast=fast)\n",
    "greedy = Greedy(sos, eos, maxlen, alpha=alpha, eps=search_eps)\n",
    "evaluator = Evaluator(testloader, tokenizer, beam, goal_bleu=goal_bleu, corpus_level=corpus_level)\n",
    "clock = Clock(checkpoint[\"duration\"])\n",
    "print(f\"Number of Trainable Paramaters: {parameter_count(model):.1f}M\\nSize of Model: {model_size(model):.1f}MB\")"
   ]
  },
  {
   "cell_type": "code",
   "execution_count": null,
   "metadata": {},
   "outputs": [],
   "source": [
    "losses, test_losses, bleus = retrain(dataloader, checkpoint, evaluator, clock, epochs=3, warmups=warmups, \n",
    "                                     clip=clip, verbose=True, log=\"experiment/log.txt\", device=device)"
   ]
  },
  {
   "cell_type": "code",
   "execution_count": null,
   "metadata": {},
   "outputs": [],
   "source": [
    "graph(losses, test_losses, bleus, path=\"experiment/metrics.jpg\")"
   ]
  },
  {
   "cell_type": "code",
   "execution_count": null,
   "metadata": {},
   "outputs": [],
   "source": [
    "model_int8 = quantize_model(model, dtype=torch.qint8, inplace=False)\n",
    "model_float16 = quantize_model(model, dtype=torch.float16, inplace=False)"
   ]
  },
  {
   "cell_type": "code",
   "execution_count": null,
   "metadata": {},
   "outputs": [],
   "source": [
    "save_model(model, path=\"experiment/model.pt\", verbose=True)\n",
    "save_model(model_int8, path=\"experiment/model_int8.pt\", verbose=True)\n",
    "save_model(model_float16, path=\"experiment/model_float16.pt\", verbose=True)"
   ]
  }
 ],
 "metadata": {
  "kernelspec": {
   "display_name": "deep-learning-venv",
   "language": "python",
   "name": "python3"
  },
  "language_info": {
   "codemirror_mode": {
    "name": "ipython",
    "version": 3
   },
   "file_extension": ".py",
   "mimetype": "text/x-python",
   "name": "python",
   "nbconvert_exporter": "python",
   "pygments_lexer": "ipython3",
   "version": "3.11.4"
  },
  "orig_nbformat": 4,
  "vscode": {
   "interpreter": {
    "hash": "cdd6e1c2b78b644f0d9d9d71785509219b94538d762b98250c0a1db53509cbf1"
   }
  }
 },
 "nbformat": 4,
 "nbformat_minor": 2
}
